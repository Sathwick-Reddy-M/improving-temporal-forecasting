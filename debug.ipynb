{
 "cells": [
  {
   "cell_type": "code",
   "execution_count": 3,
   "metadata": {},
   "outputs": [
    {
     "name": "stdout",
     "output_type": "stream",
     "text": [
      "Before date conversion:\n",
      "              Datetime  ABI   ACT  AMA  ALB  JFK  LGA\n",
      "0  1949-01-01 00:00:00  6.1  10.6  2.2 -3.3 -3.3 -3.9\n",
      "1  1949-01-01 01:00:00  3.3   6.7  1.1 -3.3 -3.3 -3.9\n",
      "2  1949-01-01 02:00:00  2.2   5.6  0.6 -3.3 -3.3 -3.9\n",
      "3  1949-01-01 03:00:00  1.7   4.4  0.0 -2.8 -3.3 -3.9\n",
      "4  1949-01-01 04:00:00  1.7   3.9  1.1 -2.8 -3.3 -3.9\n",
      "After filtering for >=2010 and date conversion:\n",
      "                Datetime  ABI  ACT  AMA  ALB  JFK  LGA\n",
      "470398  2010-01-01 00:00  1.1  6.7 -0.6 -1.7  1.1  1.1\n",
      "470399  2010-01-01 01:00  1.1  6.1 -3.3 -1.7  1.1  1.1\n",
      "470400  2010-01-01 02:00  1.7  5.6 -3.9 -1.7  0.6  1.1\n",
      "470401  2010-01-01 03:00  1.1  5.0 -3.9 -1.7  0.6  1.1\n",
      "470402  2010-01-01 04:00  1.1  4.4 -5.0 -1.1  0.6  0.6\n",
      "Modified file saved as S:\\spatiotemporal-analysis\\spacetimeformer-main\\spacetimeformer\\data\\temperature-v1_modified.csv\n"
     ]
    }
   ],
   "source": [
    "import pandas as pd\n",
    "\n",
    "# Path to the downloaded file in Kaggle environment\n",
    "file_path = \"S:\\\\spatiotemporal-analysis\\\\spacetimeformer-main\\\\spacetimeformer\\\\data\\\\temperature-v1.csv\"\n",
    "\n",
    "# Load the CSV file into a DataFrame\n",
    "data = pd.read_csv(file_path)\n",
    "\n",
    "# Display the first few rows to understand the structure of the data\n",
    "print(\"Before date conversion:\")\n",
    "print(data.head())\n",
    "\n",
    "# Convert the 'Datetime' column to datetime\n",
    "data['Datetime'] = pd.to_datetime(data['Datetime'])\n",
    "\n",
    "# Filter the data to keep only rows from the year 2010\n",
    "data = data[data['Datetime'].dt.year >= 2010]\n",
    "\n",
    "# Format the 'Datetime' column to the desired format: %Y-%m-%d %H:%M\n",
    "data['Datetime'] = data['Datetime'].dt.strftime('%Y-%m-%d %H:%M')\n",
    "\n",
    "# Display the first few rows after filtering and conversion\n",
    "print(\"After filtering for >=2010 and date conversion:\")\n",
    "print(data.head())\n",
    "\n",
    "# Save the modified DataFrame back to a new CSV file\n",
    "output_file_path = \"S:\\\\spatiotemporal-analysis\\\\spacetimeformer-main\\\\spacetimeformer\\\\data\\\\temperature-v1_modified.csv\"\n",
    "data.to_csv(output_file_path, index=False)\n",
    "\n",
    "# Confirm that the file has been saved\n",
    "print(f\"Modified file saved as {output_file_path}\")"
   ]
  },
  {
   "cell_type": "markdown",
   "metadata": {},
   "source": [
    "!python S:\\\\spatiotemporal-analysis\\\\spacetimeformer-main\\\\spacetimeformer\\\\train.py spacetimeformer asos --context_points 128 --target_points 40 --run_name spacetimeformer_asos --batch_size 32 --warmup_steps 1000 --d_model 200 --d_ff 700 --enc_layers 1 --dec_layers 1 --dropout_emb .1 --dropout_ff .3 --d_qk 30 --d_v 30 --n_heads 10 --patience 10 --decay_factor .8 --data_path S:\\\\spatiotemporal-analysis\\\\spacetimeformer-main\\\\spacetimeformer\\\\data\\\\temperature-v1_modified.csv"
   ]
  }
 ],
 "metadata": {
  "kernelspec": {
   "display_name": "base",
   "language": "python",
   "name": "python3"
  },
  "language_info": {
   "codemirror_mode": {
    "name": "ipython",
    "version": 3
   },
   "file_extension": ".py",
   "mimetype": "text/x-python",
   "name": "python",
   "nbconvert_exporter": "python",
   "pygments_lexer": "ipython3",
   "version": "3.12.7"
  }
 },
 "nbformat": 4,
 "nbformat_minor": 2
}
